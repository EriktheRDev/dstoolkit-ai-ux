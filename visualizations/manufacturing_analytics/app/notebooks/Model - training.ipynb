{
 "cells": [
  {
   "cell_type": "code",
   "execution_count": 1,
   "metadata": {},
   "outputs": [],
   "source": [
    "import pandas as pd\n",
    "import numpy as np\n",
    "from sklearn.model_selection import train_test_split\n",
    "import sklearn.metrics as sm\n",
    "from sklearn.linear_model import ElasticNet\n",
    "import joblib\n",
    "\n",
    "import random\n",
    "import datetime\n"
   ]
  },
  {
   "cell_type": "code",
   "execution_count": 2,
   "metadata": {},
   "outputs": [],
   "source": [
    "df = pd.read_csv('../datasets/energy_consumption.csv')\n"
   ]
  },
  {
   "cell_type": "code",
   "execution_count": 3,
   "metadata": {},
   "outputs": [
    {
     "data": {
      "text/plain": [
       "array(['M3', 'M1', 'M2', 'M4', 'M5'], dtype=object)"
      ]
     },
     "execution_count": 3,
     "metadata": {},
     "output_type": "execute_result"
    }
   ],
   "source": [
    "df['machine_id'].unique()"
   ]
  },
  {
   "cell_type": "code",
   "execution_count": 8,
   "metadata": {},
   "outputs": [],
   "source": [
    "dict_model = {}\n",
    "\n",
    "for machine in df['machine_id'].unique():\n",
    "    \n",
    "    df_tmp = df.query(f'machine_id == \"{machine}\"').copy()\n",
    "    X = df_tmp.drop(['energy','condition','machine_id'],axis=1).copy()\n",
    "    y = df_tmp['energy'].copy()\n",
    "    \n",
    "    \n",
    "    X_train, X_test, y_train, y_test = train_test_split(X, y, test_size=0.33, random_state=1)\n",
    "    \n",
    "    model = ElasticNet()\n",
    "    model.fit(X_train,y_train)\n",
    "    y_pred = model.predict(X_test)\n",
    "    score = sm.r2_score(y_test,y_pred)\n",
    "    dict_model[machine] = {'model':model, 'r2': score}\n"
   ]
  },
  {
   "cell_type": "code",
   "execution_count": 9,
   "metadata": {},
   "outputs": [],
   "source": [
    "with open('../list_models.pkl','wb') as f_out:\n",
    "    joblib.dump(dict_model,f_out)"
   ]
  },
  {
   "attachments": {},
   "cell_type": "markdown",
   "metadata": {},
   "source": [
    "### Test model on dummy data"
   ]
  },
  {
   "cell_type": "code",
   "execution_count": 10,
   "metadata": {},
   "outputs": [],
   "source": [
    "starting_date = pd.Timestamp(datetime.datetime.now()).round('H')"
   ]
  },
  {
   "cell_type": "code",
   "execution_count": 11,
   "metadata": {},
   "outputs": [],
   "source": [
    "dates = pd.date_range(start=starting_date, end=starting_date+pd.Timedelta('7days'),freq='1H')"
   ]
  },
  {
   "cell_type": "code",
   "execution_count": 12,
   "metadata": {},
   "outputs": [],
   "source": [
    "dict_plan = {}\n",
    "for m in df['machine_id'].unique():\n",
    "    select_sample = [random.choice([True, False]) for x in dates]\n",
    "    dict_plan[m] = df.query(f'machine_id==\"{m}\"').sample(len(dates)).iloc[select_sample,:]"
   ]
  },
  {
   "cell_type": "code",
   "execution_count": 13,
   "metadata": {},
   "outputs": [
    {
     "data": {
      "text/html": [
       "<div>\n",
       "<style scoped>\n",
       "    .dataframe tbody tr th:only-of-type {\n",
       "        vertical-align: middle;\n",
       "    }\n",
       "\n",
       "    .dataframe tbody tr th {\n",
       "        vertical-align: top;\n",
       "    }\n",
       "\n",
       "    .dataframe thead th {\n",
       "        text-align: right;\n",
       "    }\n",
       "</style>\n",
       "<table border=\"1\" class=\"dataframe\">\n",
       "  <thead>\n",
       "    <tr style=\"text-align: right;\">\n",
       "      <th></th>\n",
       "      <th>energy</th>\n",
       "      <th>condition</th>\n",
       "      <th>volume</th>\n",
       "      <th>weight</th>\n",
       "      <th>machine_id</th>\n",
       "      <th>speed</th>\n",
       "    </tr>\n",
       "  </thead>\n",
       "  <tbody>\n",
       "    <tr>\n",
       "      <th>3404</th>\n",
       "      <td>820.7</td>\n",
       "      <td>C000Z</td>\n",
       "      <td>89.0</td>\n",
       "      <td>14.0</td>\n",
       "      <td>M5</td>\n",
       "      <td>12.2</td>\n",
       "    </tr>\n",
       "    <tr>\n",
       "      <th>1409</th>\n",
       "      <td>830.1</td>\n",
       "      <td>C000O</td>\n",
       "      <td>90.0</td>\n",
       "      <td>15.0</td>\n",
       "      <td>M5</td>\n",
       "      <td>12.0</td>\n",
       "    </tr>\n",
       "    <tr>\n",
       "      <th>3749</th>\n",
       "      <td>741.3</td>\n",
       "      <td>C000E</td>\n",
       "      <td>81.0</td>\n",
       "      <td>15.0</td>\n",
       "      <td>M5</td>\n",
       "      <td>13.4</td>\n",
       "    </tr>\n",
       "    <tr>\n",
       "      <th>3256</th>\n",
       "      <td>1304.8</td>\n",
       "      <td>C000F</td>\n",
       "      <td>137.0</td>\n",
       "      <td>19.0</td>\n",
       "      <td>M5</td>\n",
       "      <td>7.7</td>\n",
       "    </tr>\n",
       "    <tr>\n",
       "      <th>487</th>\n",
       "      <td>890.2</td>\n",
       "      <td>C000Z</td>\n",
       "      <td>96.0</td>\n",
       "      <td>16.0</td>\n",
       "      <td>M5</td>\n",
       "      <td>11.3</td>\n",
       "    </tr>\n",
       "    <tr>\n",
       "      <th>...</th>\n",
       "      <td>...</td>\n",
       "      <td>...</td>\n",
       "      <td>...</td>\n",
       "      <td>...</td>\n",
       "      <td>...</td>\n",
       "      <td>...</td>\n",
       "    </tr>\n",
       "    <tr>\n",
       "      <th>451</th>\n",
       "      <td>1177.9</td>\n",
       "      <td>C000W</td>\n",
       "      <td>125.0</td>\n",
       "      <td>22.0</td>\n",
       "      <td>M5</td>\n",
       "      <td>8.5</td>\n",
       "    </tr>\n",
       "    <tr>\n",
       "      <th>300</th>\n",
       "      <td>784.8</td>\n",
       "      <td>C000Z</td>\n",
       "      <td>87.0</td>\n",
       "      <td>14.0</td>\n",
       "      <td>M5</td>\n",
       "      <td>12.8</td>\n",
       "    </tr>\n",
       "    <tr>\n",
       "      <th>2432</th>\n",
       "      <td>1179.8</td>\n",
       "      <td>C000X</td>\n",
       "      <td>127.0</td>\n",
       "      <td>20.0</td>\n",
       "      <td>M5</td>\n",
       "      <td>8.5</td>\n",
       "    </tr>\n",
       "    <tr>\n",
       "      <th>3317</th>\n",
       "      <td>921.2</td>\n",
       "      <td>C000Y</td>\n",
       "      <td>98.0</td>\n",
       "      <td>15.0</td>\n",
       "      <td>M5</td>\n",
       "      <td>10.8</td>\n",
       "    </tr>\n",
       "    <tr>\n",
       "      <th>3312</th>\n",
       "      <td>1125.7</td>\n",
       "      <td>C000AK</td>\n",
       "      <td>120.0</td>\n",
       "      <td>20.0</td>\n",
       "      <td>M5</td>\n",
       "      <td>8.9</td>\n",
       "    </tr>\n",
       "  </tbody>\n",
       "</table>\n",
       "<p>93 rows × 6 columns</p>\n",
       "</div>"
      ],
      "text/plain": [
       "      energy condition  volume  weight machine_id  speed\n",
       "3404   820.7     C000Z    89.0    14.0         M5   12.2\n",
       "1409   830.1     C000O    90.0    15.0         M5   12.0\n",
       "3749   741.3     C000E    81.0    15.0         M5   13.4\n",
       "3256  1304.8     C000F   137.0    19.0         M5    7.7\n",
       "487    890.2     C000Z    96.0    16.0         M5   11.3\n",
       "...      ...       ...     ...     ...        ...    ...\n",
       "451   1177.9     C000W   125.0    22.0         M5    8.5\n",
       "300    784.8     C000Z    87.0    14.0         M5   12.8\n",
       "2432  1179.8     C000X   127.0    20.0         M5    8.5\n",
       "3317   921.2     C000Y    98.0    15.0         M5   10.8\n",
       "3312  1125.7    C000AK   120.0    20.0         M5    8.9\n",
       "\n",
       "[93 rows x 6 columns]"
      ]
     },
     "execution_count": 13,
     "metadata": {},
     "output_type": "execute_result"
    }
   ],
   "source": [
    "dict_plan[m]"
   ]
  },
  {
   "cell_type": "code",
   "execution_count": null,
   "metadata": {},
   "outputs": [],
   "source": []
  }
 ],
 "metadata": {
  "kernelspec": {
   "display_name": "Python 3.10.8 ('env-exp')",
   "language": "python",
   "name": "python3"
  },
  "language_info": {
   "codemirror_mode": {
    "name": "ipython",
    "version": 3
   },
   "file_extension": ".py",
   "mimetype": "text/x-python",
   "name": "python",
   "nbconvert_exporter": "python",
   "pygments_lexer": "ipython3",
   "version": "3.10.8"
  },
  "orig_nbformat": 4,
  "vscode": {
   "interpreter": {
    "hash": "f9ea5abf22a07b85e9bf9a5b4559740fd04a2c83982993619f47f79687ac8ab1"
   }
  }
 },
 "nbformat": 4,
 "nbformat_minor": 2
}
